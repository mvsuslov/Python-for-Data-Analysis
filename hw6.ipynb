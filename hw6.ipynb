{
  "nbformat": 4,
  "nbformat_minor": 0,
  "metadata": {
    "colab": {
      "provenance": []
    },
    "kernelspec": {
      "name": "python3",
      "display_name": "Python 3"
    },
    "language_info": {
      "name": "python"
    }
  },
  "cells": [
    {
      "cell_type": "code",
      "execution_count": 3,
      "metadata": {
        "id": "VfL18imwOs8b"
      },
      "outputs": [],
      "source": [
        "import pandas as pd\n",
        "import numpy as np\n",
        "from sklearn.model_selection import train_test_split\n",
        "from sklearn.linear_model import LogisticRegression\n",
        "from sklearn.metrics import accuracy_score, precision_score, recall_score, f1_score, roc_auc_score, classification_report\n",
        "from sklearn.dummy import DummyClassifier\n",
        "\n",
        "# Загружаем данные\n",
        "data = pd.read_csv(\"train.csv\")\n"
      ]
    },
    {
      "cell_type": "markdown",
      "source": [
        "**Обоснование выбора метрики**\n",
        "Для задачи бинарной классификации на основе данных о выживаемости выбраны следующие метрики:\n",
        "\n",
        "F1-score: так как классы несбалансированы, она учитывает и точность, и\n",
        "полноту.\n",
        "\n",
        "ROC-AUC: так как оценивает разделяющую способность модели, независимо от порога классификации."
      ],
      "metadata": {
        "id": "2fKQeXkSQN9N"
      }
    },
    {
      "cell_type": "code",
      "source": [
        "# Тренировочная и тестовая выборки\n",
        "\n",
        "# Удаление ненужных столбцов\n",
        "data = data.drop(columns=[\"PassengerId\", \"Name\", \"Ticket\", \"Cabin\"])\n",
        "\n",
        "# Обработка данных\n",
        "\n",
        "data[\"Age\"] = data[\"Age\"].fillna(data[\"Age\"].median())\n",
        "data[\"Embarked\"] = data[\"Embarked\"].fillna(data[\"Embarked\"].mode()[0])\n",
        "\n",
        "data = pd.get_dummies(data, columns=[\"Sex\", \"Embarked\"], drop_first=True)\n",
        "\n",
        "X = data.drop(\"Survived\", axis=1)\n",
        "y = data[\"Survived\"]\n",
        "\n",
        "# Разделение данных\n",
        "X_train, X_test, y_train, y_test = train_test_split(X, y, test_size=0.2, random_state=42, stratify=y)\n"
      ],
      "metadata": {
        "id": "RsMCG_mrrQVg"
      },
      "execution_count": 4,
      "outputs": []
    },
    {
      "cell_type": "code",
      "source": [
        "# Оценка бейзлайн-модели\n",
        "\n",
        "# Бейзлайн: DummyClassifier\n",
        "dummy_clf = DummyClassifier(strategy=\"most_frequent\", random_state=42)\n",
        "dummy_clf.fit(X_train, y_train)\n",
        "\n",
        "# Предсказания и метрики\n",
        "y_dummy_pred = dummy_clf.predict(X_test)\n",
        "print(\"Бейзлайн:\")\n",
        "print(f\"Accuracy: {accuracy_score(y_test, y_dummy_pred):.2f}\")\n",
        "print(f\"F1-score: {f1_score(y_test, y_dummy_pred):.2f}\")\n",
        "print(f\"ROC-AUC: {roc_auc_score(y_test, y_dummy_pred):.2f}\")\n"
      ],
      "metadata": {
        "colab": {
          "base_uri": "https://localhost:8080/"
        },
        "id": "VU17GEr6sHaO",
        "outputId": "543240e4-5e74-49fa-e82b-cc6bc5cd5421"
      },
      "execution_count": 5,
      "outputs": [
        {
          "output_type": "stream",
          "name": "stdout",
          "text": [
            "Бейзлайн:\n",
            "Accuracy: 0.61\n",
            "F1-score: 0.00\n",
            "ROC-AUC: 0.50\n"
          ]
        }
      ]
    },
    {
      "cell_type": "code",
      "source": [
        "# Обучение модели\n",
        "# Логистическая регрессия\n",
        "model = LogisticRegression(random_state=42, max_iter=1000)\n",
        "model.fit(X_train, y_train)\n",
        "\n",
        "# Предсказания и метрики\n",
        "y_pred = model.predict(X_test)\n",
        "y_proba = model.predict_proba(X_test)[:, 1]\n",
        "\n",
        "print(\"\\nЛогистическая регрессия:\")\n",
        "print(f\"Accuracy: {accuracy_score(y_test, y_pred):.2f}\")\n",
        "print(f\"F1-score: {f1_score(y_test, y_pred):.2f}\")\n",
        "print(f\"ROC-AUC: {roc_auc_score(y_test, y_proba):.2f}\")\n",
        "print(\"\\nClassification Report:\")\n",
        "print(classification_report(y_test, y_pred))\n"
      ],
      "metadata": {
        "colab": {
          "base_uri": "https://localhost:8080/"
        },
        "id": "PgBfmM0jsNAJ",
        "outputId": "fd41c900-9b4c-493d-d414-59acc79d93db"
      },
      "execution_count": 6,
      "outputs": [
        {
          "output_type": "stream",
          "name": "stdout",
          "text": [
            "\n",
            "Логистическая регрессия:\n",
            "Accuracy: 0.80\n",
            "F1-score: 0.72\n",
            "ROC-AUC: 0.84\n",
            "\n",
            "Classification Report:\n",
            "              precision    recall  f1-score   support\n",
            "\n",
            "           0       0.81      0.89      0.85       110\n",
            "           1       0.79      0.67      0.72        69\n",
            "\n",
            "    accuracy                           0.80       179\n",
            "   macro avg       0.80      0.78      0.79       179\n",
            "weighted avg       0.80      0.80      0.80       179\n",
            "\n"
          ]
        }
      ]
    }
  ]
}