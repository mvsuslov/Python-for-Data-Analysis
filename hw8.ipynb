{
  "nbformat": 4,
  "nbformat_minor": 0,
  "metadata": {
    "colab": {
      "provenance": []
    },
    "kernelspec": {
      "name": "python3",
      "display_name": "Python 3"
    },
    "language_info": {
      "name": "python"
    }
  },
  "cells": [
    {
      "cell_type": "markdown",
      "source": [
        "**Работа с API**"
      ],
      "metadata": {
        "id": "fdioHa0sGZui"
      }
    },
    {
      "cell_type": "code",
      "execution_count": 1,
      "metadata": {
        "colab": {
          "base_uri": "https://localhost:8080/"
        },
        "id": "9MtOV0NgEatS",
        "outputId": "40dfebcd-5237-4b2a-e71c-0d7952354622"
      },
      "outputs": [
        {
          "output_type": "stream",
          "name": "stdout",
          "text": [
            "Requirement already satisfied: requests in /usr/local/lib/python3.10/dist-packages (2.32.3)\n",
            "Requirement already satisfied: pandas in /usr/local/lib/python3.10/dist-packages (2.2.2)\n",
            "Requirement already satisfied: charset-normalizer<4,>=2 in /usr/local/lib/python3.10/dist-packages (from requests) (3.4.0)\n",
            "Requirement already satisfied: idna<4,>=2.5 in /usr/local/lib/python3.10/dist-packages (from requests) (3.10)\n",
            "Requirement already satisfied: urllib3<3,>=1.21.1 in /usr/local/lib/python3.10/dist-packages (from requests) (2.2.3)\n",
            "Requirement already satisfied: certifi>=2017.4.17 in /usr/local/lib/python3.10/dist-packages (from requests) (2024.8.30)\n",
            "Requirement already satisfied: numpy>=1.22.4 in /usr/local/lib/python3.10/dist-packages (from pandas) (1.26.4)\n",
            "Requirement already satisfied: python-dateutil>=2.8.2 in /usr/local/lib/python3.10/dist-packages (from pandas) (2.8.2)\n",
            "Requirement already satisfied: pytz>=2020.1 in /usr/local/lib/python3.10/dist-packages (from pandas) (2024.2)\n",
            "Requirement already satisfied: tzdata>=2022.7 in /usr/local/lib/python3.10/dist-packages (from pandas) (2024.2)\n",
            "Requirement already satisfied: six>=1.5 in /usr/local/lib/python3.10/dist-packages (from python-dateutil>=2.8.2->pandas) (1.16.0)\n"
          ]
        }
      ],
      "source": [
        "!pip install requests pandas\n"
      ]
    },
    {
      "cell_type": "code",
      "source": [
        "\n",
        "import requests\n",
        "import pandas as pd\n",
        "\n",
        "BASE_URL = \"https://anapioficeandfire.com/api\"\n",
        "\n",
        "# Получение данных о книгах\n",
        "def get_books():\n",
        "    response = requests.get(f\"{BASE_URL}/books\")\n",
        "    if response.status_code == 200:\n",
        "        return response.json()\n",
        "    else:\n",
        "        print(f\"Ошибка: {response.status_code}\")\n",
        "        return []\n",
        "\n",
        "books_data = get_books()\n",
        "books_df = pd.DataFrame(books_data)\n",
        "\n",
        "print(\"Информация о книгах:\")\n",
        "print(books_df.head())\n"
      ],
      "metadata": {
        "colab": {
          "base_uri": "https://localhost:8080/"
        },
        "id": "dpbeb--pEhXP",
        "outputId": "922e82ea-b19f-410f-81bc-83fa5b93854f"
      },
      "execution_count": 2,
      "outputs": [
        {
          "output_type": "stream",
          "name": "stdout",
          "text": [
            "Информация о книгах:\n",
            "                                         url               name  \\\n",
            "0  https://anapioficeandfire.com/api/books/1  A Game of Thrones   \n",
            "1  https://anapioficeandfire.com/api/books/2   A Clash of Kings   \n",
            "2  https://anapioficeandfire.com/api/books/3  A Storm of Swords   \n",
            "3  https://anapioficeandfire.com/api/books/4   The Hedge Knight   \n",
            "4  https://anapioficeandfire.com/api/books/5  A Feast for Crows   \n",
            "\n",
            "             isbn                authors  numberOfPages  \\\n",
            "0  978-0553103540  [George R. R. Martin]            694   \n",
            "1  978-0553108033  [George R. R. Martin]            768   \n",
            "2  978-0553106633  [George R. R. Martin]            992   \n",
            "3  978-0976401100  [George R. R. Martin]            164   \n",
            "4  978-0553801507  [George R. R. Martin]            784   \n",
            "\n",
            "                   publisher        country     mediaType  \\\n",
            "0               Bantam Books  United States     Hardcover   \n",
            "1               Bantam Books  United States      Hardback   \n",
            "2               Bantam Books  United States     Hardcover   \n",
            "3  Dabel Brothers Publishing  United States  GraphicNovel   \n",
            "4               Bantam Books  United Status     Hardcover   \n",
            "\n",
            "              released                                         characters  \\\n",
            "0  1996-08-01T00:00:00  [https://anapioficeandfire.com/api/characters/...   \n",
            "1  1999-02-02T00:00:00  [https://anapioficeandfire.com/api/characters/...   \n",
            "2  2000-10-31T00:00:00  [https://anapioficeandfire.com/api/characters/...   \n",
            "3  2005-03-09T00:00:00  [https://anapioficeandfire.com/api/characters/...   \n",
            "4  2005-11-08T00:00:00  [https://anapioficeandfire.com/api/characters/...   \n",
            "\n",
            "                                       povCharacters  \n",
            "0  [https://anapioficeandfire.com/api/characters/...  \n",
            "1  [https://anapioficeandfire.com/api/characters/...  \n",
            "2  [https://anapioficeandfire.com/api/characters/...  \n",
            "3  [https://anapioficeandfire.com/api/characters/...  \n",
            "4  [https://anapioficeandfire.com/api/characters/...  \n"
          ]
        }
      ]
    },
    {
      "cell_type": "code",
      "source": [
        "# Получение данных о домах Вестероса\n",
        "def get_houses():\n",
        "    houses = []\n",
        "    page = 1\n",
        "    while True:\n",
        "        response = requests.get(f\"{BASE_URL}/houses?page={page}&pageSize=50\")\n",
        "        if response.status_code == 200:\n",
        "            data = response.json()\n",
        "            if not data:\n",
        "                break\n",
        "            houses.extend(data)\n",
        "            page += 1\n",
        "        else:\n",
        "            print(f\"Ошибка: {response.status_code}\")\n",
        "            break\n",
        "    return houses\n",
        "\n",
        "houses_data = get_houses()\n",
        "houses_df = pd.DataFrame(houses_data)\n",
        "\n",
        "print(\"Информация о домах:\")\n",
        "print(houses_df.head())\n"
      ],
      "metadata": {
        "colab": {
          "base_uri": "https://localhost:8080/"
        },
        "id": "Dfo-l1SzElN9",
        "outputId": "c6d3ff77-303b-428c-eae6-439d4acc1c77"
      },
      "execution_count": 3,
      "outputs": [
        {
          "output_type": "stream",
          "name": "stdout",
          "text": [
            "Информация о домах:\n",
            "                                          url                         name  \\\n",
            "0  https://anapioficeandfire.com/api/houses/1                 House Algood   \n",
            "1  https://anapioficeandfire.com/api/houses/2  House Allyrion of Godsgrace   \n",
            "2  https://anapioficeandfire.com/api/houses/3                  House Amber   \n",
            "3  https://anapioficeandfire.com/api/houses/4                House Ambrose   \n",
            "4  https://anapioficeandfire.com/api/houses/5   House Appleton of Appleton   \n",
            "\n",
            "            region                                         coatOfArms  \\\n",
            "0  The Westerlands  A golden wreath, on a blue field with a gold b...   \n",
            "1            Dorne          Gyronny Gules and Sable, a hand couped Or   \n",
            "2        The North                                                      \n",
            "3        The Reach                             Or, semy of ants gules   \n",
            "4        The Reach  Or, an apple tree eradicated proper fructed gu...   \n",
            "\n",
            "             words titles        seats  \\\n",
            "0                      []           []   \n",
            "1  No Foe May Pass     []  [Godsgrace]   \n",
            "2                      []           []   \n",
            "3    Never Resting     []           []   \n",
            "4                      []   [Appleton]   \n",
            "\n",
            "                                        currentLord  \\\n",
            "0                                                     \n",
            "1  https://anapioficeandfire.com/api/characters/298   \n",
            "2                                                     \n",
            "3  https://anapioficeandfire.com/api/characters/141   \n",
            "4                                                     \n",
            "\n",
            "                                                heir  \\\n",
            "0                                                      \n",
            "1  https://anapioficeandfire.com/api/characters/1922   \n",
            "2                                                      \n",
            "3                                                      \n",
            "4                                                      \n",
            "\n",
            "                                       overlord founded founder diedOut  \\\n",
            "0  https://anapioficeandfire.com/api/houses/229                           \n",
            "1  https://anapioficeandfire.com/api/houses/285                           \n",
            "2                                                                         \n",
            "3  https://anapioficeandfire.com/api/houses/398                           \n",
            "4  https://anapioficeandfire.com/api/houses/398                           \n",
            "\n",
            "  ancestralWeapons cadetBranches  \\\n",
            "0               []            []   \n",
            "1               []            []   \n",
            "2               []            []   \n",
            "3               []            []   \n",
            "4               []            []   \n",
            "\n",
            "                                        swornMembers  \n",
            "0                                                 []  \n",
            "1  [https://anapioficeandfire.com/api/characters/...  \n",
            "2                                                 []  \n",
            "3  [https://anapioficeandfire.com/api/characters/...  \n",
            "4                                                 []  \n"
          ]
        }
      ]
    },
    {
      "cell_type": "code",
      "source": [
        "# Получение о домах Вестероса с девизами\n",
        "def get_houses_with_mottos():\n",
        "    houses_with_mottos = []\n",
        "    page = 1\n",
        "    while True:\n",
        "        response = requests.get(f\"{BASE_URL}/houses?page={page}&pageSize=50&hasWords=true\")\n",
        "        if response.status_code == 200:\n",
        "            data = response.json()\n",
        "            if not data:\n",
        "                break\n",
        "            houses_with_mottos.extend(data)\n",
        "            page += 1\n",
        "        else:\n",
        "            print(f\"Ошибка: {response.status_code}\")\n",
        "            break\n",
        "    return houses_with_mottos\n",
        "\n",
        "houses_with_mottos_data = get_houses_with_mottos()\n",
        "houses_with_mottos_df = pd.DataFrame(houses_with_mottos_data)\n",
        "\n",
        "print(\"Информация о домах с девизами:\")\n",
        "print(houses_with_mottos_df.head())\n"
      ],
      "metadata": {
        "colab": {
          "base_uri": "https://localhost:8080/"
        },
        "id": "CRQ5D3Z3EpKd",
        "outputId": "f385e012-8cae-473b-c0e7-078d84604e4e"
      },
      "execution_count": 4,
      "outputs": [
        {
          "output_type": "stream",
          "name": "stdout",
          "text": [
            "Информация о домах с девизами:\n",
            "                                           url  \\\n",
            "0   https://anapioficeandfire.com/api/houses/2   \n",
            "1   https://anapioficeandfire.com/api/houses/4   \n",
            "2   https://anapioficeandfire.com/api/houses/7   \n",
            "3   https://anapioficeandfire.com/api/houses/8   \n",
            "4  https://anapioficeandfire.com/api/houses/17   \n",
            "\n",
            "                             name          region  \\\n",
            "0     House Allyrion of Godsgrace           Dorne   \n",
            "1                   House Ambrose       The Reach   \n",
            "2        House Arryn of the Eyrie        The Vale   \n",
            "3        House Ashford of Ashford       The Reach   \n",
            "4  House Baratheon of Storm's End  The Stormlands   \n",
            "\n",
            "                                          coatOfArms                  words  \\\n",
            "0          Gyronny Gules and Sable, a hand couped Or        No Foe May Pass   \n",
            "1                             Or, semy of ants gules          Never Resting   \n",
            "2  A sky-blue falcon soaring against a white moon...       As High as Honor   \n",
            "3  Tenny, a sun in splendour beneath a chevron in...  Our Sun Shines Bright   \n",
            "4  A black crowned stag, on a gold field(Or, a st...       Ours is the Fury   \n",
            "\n",
            "                                              titles  \\\n",
            "0                                                 []   \n",
            "1                                                 []   \n",
            "2  [King of Mountain and Vale (formerly), Lord of...   \n",
            "3                                  [Lord of Ashford]   \n",
            "4  [Lord of Storm's End, Lord Paramount of the St...   \n",
            "\n",
            "                                               seats  \\\n",
            "0                                        [Godsgrace]   \n",
            "1                                                 []   \n",
            "2   [The Eyrie (summer), Gates of the Moon (winter)]   \n",
            "3                                          [Ashford]   \n",
            "4  [Storm's End, Dragonstone (House Baratheon of ...   \n",
            "\n",
            "                                         currentLord  \\\n",
            "0   https://anapioficeandfire.com/api/characters/298   \n",
            "1   https://anapioficeandfire.com/api/characters/141   \n",
            "2   https://anapioficeandfire.com/api/characters/894   \n",
            "3                                                      \n",
            "4  https://anapioficeandfire.com/api/characters/1029   \n",
            "\n",
            "                                                heir  \\\n",
            "0  https://anapioficeandfire.com/api/characters/1922   \n",
            "1                                                      \n",
            "2   https://anapioficeandfire.com/api/characters/477   \n",
            "3                                                      \n",
            "4   https://anapioficeandfire.com/api/characters/775   \n",
            "\n",
            "                                       overlord               founded  \\\n",
            "0  https://anapioficeandfire.com/api/houses/285                         \n",
            "1  https://anapioficeandfire.com/api/houses/398                         \n",
            "2   https://anapioficeandfire.com/api/houses/16  Coming of the Andals   \n",
            "3  https://anapioficeandfire.com/api/houses/398                         \n",
            "4   https://anapioficeandfire.com/api/houses/16                  1 AC   \n",
            "\n",
            "                                            founder diedOut ancestralWeapons  \\\n",
            "0                                                                         []   \n",
            "1                                                                         []   \n",
            "2  https://anapioficeandfire.com/api/characters/144                       []   \n",
            "3                                                                         []   \n",
            "4  https://anapioficeandfire.com/api/characters/797                       []   \n",
            "\n",
            "                                       cadetBranches  \\\n",
            "0                                                 []   \n",
            "1                                                 []   \n",
            "2       [https://anapioficeandfire.com/api/houses/6]   \n",
            "3                                                 []   \n",
            "4  [https://anapioficeandfire.com/api/houses/15, ...   \n",
            "\n",
            "                                        swornMembers  \n",
            "0  [https://anapioficeandfire.com/api/characters/...  \n",
            "1  [https://anapioficeandfire.com/api/characters/...  \n",
            "2  [https://anapioficeandfire.com/api/characters/...  \n",
            "3  [https://anapioficeandfire.com/api/characters/...  \n",
            "4  [https://anapioficeandfire.com/api/characters/...  \n"
          ]
        }
      ]
    },
    {
      "cell_type": "markdown",
      "source": [
        "**Работа с БД**"
      ],
      "metadata": {
        "id": "ilDQCC_iGXwe"
      }
    },
    {
      "cell_type": "code",
      "source": [
        "!pip install psycopg2-binary"
      ],
      "metadata": {
        "colab": {
          "base_uri": "https://localhost:8080/"
        },
        "id": "N-ltqg2YGuuR",
        "outputId": "e5300efb-74e8-4f1d-8583-90096aff2090"
      },
      "execution_count": 5,
      "outputs": [
        {
          "output_type": "stream",
          "name": "stdout",
          "text": [
            "Collecting psycopg2-binary\n",
            "  Downloading psycopg2_binary-2.9.10-cp310-cp310-manylinux_2_17_x86_64.manylinux2014_x86_64.whl.metadata (4.9 kB)\n",
            "Downloading psycopg2_binary-2.9.10-cp310-cp310-manylinux_2_17_x86_64.manylinux2014_x86_64.whl (3.0 MB)\n",
            "\u001b[?25l   \u001b[90m━━━━━━━━━━━━━━━━━━━━━━━━━━━━━━━━━━━━━━━━\u001b[0m \u001b[32m0.0/3.0 MB\u001b[0m \u001b[31m?\u001b[0m eta \u001b[36m-:--:--\u001b[0m\r\u001b[2K   \u001b[91m━\u001b[0m\u001b[90m╺\u001b[0m\u001b[90m━━━━━━━━━━━━━━━━━━━━━━━━━━━━━━━━━━━━━━\u001b[0m \u001b[32m0.1/3.0 MB\u001b[0m \u001b[31m3.1 MB/s\u001b[0m eta \u001b[36m0:00:01\u001b[0m\r\u001b[2K   \u001b[91m━━━━━━━━\u001b[0m\u001b[91m╸\u001b[0m\u001b[90m━━━━━━━━━━━━━━━━━━━━━━━━━━━━━━━\u001b[0m \u001b[32m0.6/3.0 MB\u001b[0m \u001b[31m9.7 MB/s\u001b[0m eta \u001b[36m0:00:01\u001b[0m\r\u001b[2K   \u001b[91m━━━━━━━━━━━━━━━━━━━━━━━━━━━━━━━━━━━━━━━\u001b[0m\u001b[91m╸\u001b[0m \u001b[32m3.0/3.0 MB\u001b[0m \u001b[31m29.0 MB/s\u001b[0m eta \u001b[36m0:00:01\u001b[0m\r\u001b[2K   \u001b[90m━━━━━━━━━━━━━━━━━━━━━━━━━━━━━━━━━━━━━━━━\u001b[0m \u001b[32m3.0/3.0 MB\u001b[0m \u001b[31m23.2 MB/s\u001b[0m eta \u001b[36m0:00:00\u001b[0m\n",
            "\u001b[?25hInstalling collected packages: psycopg2-binary\n",
            "Successfully installed psycopg2-binary-2.9.10\n"
          ]
        }
      ]
    },
    {
      "cell_type": "code",
      "source": [
        "import psycopg2\n",
        "import psycopg2.extras\n",
        "import pandas as pd\n",
        "\n",
        "\n",
        "# Параметры подключения\n",
        "conn_string = (\n",
        "  \"host='hh-pgsql-public.ebi.ac.uk' \"\n",
        "  \"dbname='pfmegrnargs' \"\n",
        "  \"user='reader' \"\n",
        "  \"password='NWDMCE5xdipIjRrp' \"\n",
        ")\n",
        "\n",
        "# Подключение к базе данных\n",
        "try:\n",
        "    conn = psycopg2.connect(conn_string)\n",
        "    print(\"Успешное подключение к базе данных.\")\n",
        "except Exception as e:\n",
        "    print(f\"Ошибка подключения: {e}\")\n",
        "\n",
        "# Получение строк из таблицы rnc_database\n",
        "def fetch_rows(limit=10):\n",
        "    try:\n",
        "        cursor = conn.cursor()\n",
        "        cursor.execute(f\"SELECT * FROM rnc_database LIMIT {limit};\")\n",
        "        rows = cursor.fetchall()\n",
        "        cursor.close()\n",
        "        return rows\n",
        "    except Exception as e:\n",
        "        print(f\"Ошибка при выполнении запроса: {e}\")\n",
        "        return []\n",
        "\n",
        "rows = fetch_rows()\n",
        "rnc_df = pd.DataFrame(rows)\n",
        "\n",
        "print(\"Данные из rnc_database:\")\n",
        "print(rnc_df.head())\n"
      ],
      "metadata": {
        "colab": {
          "base_uri": "https://localhost:8080/"
        },
        "id": "r5fhIWPBGzxx",
        "outputId": "82293ec3-58a0-4f94-8470-7532310d0a24"
      },
      "execution_count": 12,
      "outputs": [
        {
          "output_type": "stream",
          "name": "stdout",
          "text": [
            "Успешное подключение к базе данных.\n",
            "Данные из rnc_database:\n",
            "   0                          1       2          3    4          5  6     7   \\\n",
            "0   1 2017-05-01 00:00:00.000000  RNACEN        ENA  884        ENA  Y         \n",
            "1   5 2017-05-17 00:00:00.000000  RNACEN       VEGA   98       VEGA  N         \n",
            "2  26 2017-05-01 00:00:00.000000  RNACEN    GENCODE  450    GENCODE  N         \n",
            "3  55 2023-10-10 15:02:45.191606  RNACEN     MGNIFY  839     MGnify  Y  None   \n",
            "4  41 2017-05-01 00:00:00.000000  RNACEN  GENECARDS  867  MalaCards  Y         \n",
            "\n",
            "          8          9       10    11        12        13      14  \\\n",
            "0        ENA              412.0  10.0  900074.0  12086180  814855   \n",
            "1       VEGA  PRJEB4568     NaN   NaN       NaN         0       0   \n",
            "2    GENCODE              889.0  32.0  205012.0     47677       2   \n",
            "3     MGnify       None   151.0  27.0    3514.0    135924    1929   \n",
            "4  GeneCards             1298.0  16.0  347561.0    517673       1   \n",
            "\n",
            "                                                  15  \\\n",
            "0  provides a comprehensive record of the world's...   \n",
            "1  is a repository for high-quality gene models p...   \n",
            "2  produces high quality reference gene annotatio...   \n",
            "3                                               None   \n",
            "4  is a searchable, integrative database that pro...   \n",
            "\n",
            "                                   16  \\\n",
            "0  https://www.ebi.ac.uk/ena/browser/   \n",
            "1           http://vega.sanger.ac.uk/   \n",
            "2            http://gencodegenes.org/   \n",
            "3                                None   \n",
            "4          https://www.genecards.org/   \n",
            "\n",
            "                                                  17  \\\n",
            "0  [{'upi': 'URS00002D0E0C', 'taxid': 10090}, {'u...   \n",
            "1  [{'upi': 'URS00000B15DA', 'taxid': 9606}, {'up...   \n",
            "2  [{'upi': 'URS00000B15DA', 'taxid': 9606}, {'up...   \n",
            "3                                               None   \n",
            "4  [{'upi': 'URS0000EBFCE3', 'taxid': 9606}, {'up...   \n",
            "\n",
            "                                                  18  \n",
            "0  [{'title': 'The European Nucleotide Archive in...  \n",
            "1  [{'title': 'The GENCODE v7 catalog of human lo...  \n",
            "2  [{'title': 'GENCODE: the reference human genom...  \n",
            "3                                               None  \n",
            "4  [{'title': 'The GeneCards Suite: From Gene Dat...  \n"
          ]
        }
      ]
    },
    {
      "cell_type": "code",
      "source": [
        "def fetch_selected_columns(limit=10):\n",
        "    try:\n",
        "        cursor = conn.cursor()\n",
        "        query = \"\"\"\n",
        "        SELECT display_name, num_sequences, num_organisms, url\n",
        "        FROM rnc_database\n",
        "        LIMIT %s;\n",
        "        \"\"\"\n",
        "        cursor.execute(query, (limit,))\n",
        "        rows = cursor.fetchall()\n",
        "        cursor.close()\n",
        "        return rows\n",
        "    except Exception as e:\n",
        "        print(f\"Ошибка при выполнении запроса: {e}\")\n",
        "        return []\n",
        "\n",
        "selected_columns = fetch_selected_columns()\n",
        "selected_df = pd.DataFrame(\n",
        "    selected_columns,\n",
        "    columns=[\"Display Name\", \"Num Sequences\", \"Num Organisms\", \"URL\"]\n",
        ")\n",
        "\n",
        "print(\"Выбранные столбцы:\")\n",
        "print(selected_df.head())\n"
      ],
      "metadata": {
        "colab": {
          "base_uri": "https://localhost:8080/"
        },
        "id": "4q_habVEHE2j",
        "outputId": "713fdf3f-4ed7-4066-9ed1-79d0c945ff01"
      },
      "execution_count": 14,
      "outputs": [
        {
          "output_type": "stream",
          "name": "stdout",
          "text": [
            "Выбранные столбцы:\n",
            "  Display Name  Num Sequences  Num Organisms  \\\n",
            "0          ENA       12086180         814855   \n",
            "1         VEGA              0              0   \n",
            "2      GENCODE          47677              2   \n",
            "3       MGnify         135924           1929   \n",
            "4    GeneCards         517673              1   \n",
            "\n",
            "                                  URL  \n",
            "0  https://www.ebi.ac.uk/ena/browser/  \n",
            "1           http://vega.sanger.ac.uk/  \n",
            "2            http://gencodegenes.org/  \n",
            "3                                None  \n",
            "4          https://www.genecards.org/  \n"
          ]
        }
      ]
    }
  ]
}