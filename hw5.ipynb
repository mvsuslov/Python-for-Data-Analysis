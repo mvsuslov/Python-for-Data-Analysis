{
  "nbformat": 4,
  "nbformat_minor": 0,
  "metadata": {
    "colab": {
      "provenance": []
    },
    "kernelspec": {
      "name": "python3",
      "display_name": "Python 3"
    },
    "language_info": {
      "name": "python"
    }
  },
  "cells": [
    {
      "cell_type": "markdown",
      "source": [
        "**POLARS**"
      ],
      "metadata": {
        "id": "WIbeCgoOIiRK"
      }
    },
    {
      "cell_type": "code",
      "execution_count": 9,
      "metadata": {
        "colab": {
          "base_uri": "https://localhost:8080/"
        },
        "id": "9HjJmbrvEYTE",
        "outputId": "011fb056-96c7-421d-c4ce-d55661967b3d"
      },
      "outputs": [
        {
          "output_type": "stream",
          "name": "stdout",
          "text": [
            "Requirement already satisfied: polars in /usr/local/lib/python3.10/dist-packages (1.9.0)\n"
          ]
        }
      ],
      "source": [
        "!pip install polars"
      ]
    },
    {
      "cell_type": "code",
      "source": [
        "import polars as pl"
      ],
      "metadata": {
        "id": "y62hTERUE2gD"
      },
      "execution_count": 2,
      "outputs": []
    },
    {
      "cell_type": "code",
      "source": [
        "# 1 Считайте датасет из файла train.csv (это данные о выживаемости на Титанике) с помощью polars\n",
        "file_path = \"/content/train.csv\"\n",
        "data = pl.read_csv(file_path)"
      ],
      "metadata": {
        "id": "u2hm6LaKFHTr"
      },
      "execution_count": 6,
      "outputs": []
    },
    {
      "cell_type": "code",
      "source": [
        "# 2 Основная информация о датасете\n",
        "print(\"Описание данных:\")\n",
        "print(data.describe())\n",
        "\n",
        "print(\"\\nТипы данных:\")\n",
        "print(data.dtypes)\n",
        "\n",
        "print(\"\\nКоличество пропусков:\")\n",
        "print(data.null_count())"
      ],
      "metadata": {
        "colab": {
          "base_uri": "https://localhost:8080/"
        },
        "id": "8MDGHlKIFQoL",
        "outputId": "4980eb4c-1453-4e9e-c07e-7943971ee974"
      },
      "execution_count": 4,
      "outputs": [
        {
          "output_type": "stream",
          "name": "stdout",
          "text": [
            "Описание данных:\n",
            "shape: (9, 13)\n",
            "┌────────────┬─────────────┬──────────┬──────────┬───┬───────────┬───────────┬───────┬──────────┐\n",
            "│ statistic  ┆ PassengerId ┆ Survived ┆ Pclass   ┆ … ┆ Ticket    ┆ Fare      ┆ Cabin ┆ Embarked │\n",
            "│ ---        ┆ ---         ┆ ---      ┆ ---      ┆   ┆ ---       ┆ ---       ┆ ---   ┆ ---      │\n",
            "│ str        ┆ f64         ┆ f64      ┆ f64      ┆   ┆ str       ┆ f64       ┆ str   ┆ str      │\n",
            "╞════════════╪═════════════╪══════════╪══════════╪═══╪═══════════╪═══════════╪═══════╪══════════╡\n",
            "│ count      ┆ 891.0       ┆ 891.0    ┆ 891.0    ┆ … ┆ 891       ┆ 891.0     ┆ 204   ┆ 889      │\n",
            "│ null_count ┆ 0.0         ┆ 0.0      ┆ 0.0      ┆ … ┆ 0         ┆ 0.0       ┆ 687   ┆ 2        │\n",
            "│ mean       ┆ 446.0       ┆ 0.383838 ┆ 2.308642 ┆ … ┆ null      ┆ 32.204208 ┆ null  ┆ null     │\n",
            "│ std        ┆ 257.353842  ┆ 0.486592 ┆ 0.836071 ┆ … ┆ null      ┆ 49.693429 ┆ null  ┆ null     │\n",
            "│ min        ┆ 1.0         ┆ 0.0      ┆ 1.0      ┆ … ┆ 110152    ┆ 0.0       ┆ A10   ┆ C        │\n",
            "│ 25%        ┆ 224.0       ┆ 0.0      ┆ 2.0      ┆ … ┆ null      ┆ 7.925     ┆ null  ┆ null     │\n",
            "│ 50%        ┆ 446.0       ┆ 0.0      ┆ 3.0      ┆ … ┆ null      ┆ 14.4542   ┆ null  ┆ null     │\n",
            "│ 75%        ┆ 669.0       ┆ 1.0      ┆ 3.0      ┆ … ┆ null      ┆ 31.0      ┆ null  ┆ null     │\n",
            "│ max        ┆ 891.0       ┆ 1.0      ┆ 3.0      ┆ … ┆ WE/P 5735 ┆ 512.3292  ┆ T     ┆ S        │\n",
            "└────────────┴─────────────┴──────────┴──────────┴───┴───────────┴───────────┴───────┴──────────┘\n",
            "\n",
            "Типы данных:\n",
            "[Int64, Int64, Int64, String, String, Float64, Int64, Int64, String, Float64, String, String]\n",
            "\n",
            "Количество пропусков:\n",
            "shape: (1, 12)\n",
            "┌─────────────┬──────────┬────────┬──────┬───┬────────┬──────┬───────┬──────────┐\n",
            "│ PassengerId ┆ Survived ┆ Pclass ┆ Name ┆ … ┆ Ticket ┆ Fare ┆ Cabin ┆ Embarked │\n",
            "│ ---         ┆ ---      ┆ ---    ┆ ---  ┆   ┆ ---    ┆ ---  ┆ ---   ┆ ---      │\n",
            "│ u32         ┆ u32      ┆ u32    ┆ u32  ┆   ┆ u32    ┆ u32  ┆ u32   ┆ u32      │\n",
            "╞═════════════╪══════════╪════════╪══════╪═══╪════════╪══════╪═══════╪══════════╡\n",
            "│ 0           ┆ 0        ┆ 0      ┆ 0    ┆ … ┆ 0      ┆ 0    ┆ 687   ┆ 2        │\n",
            "└─────────────┴──────────┴────────┴──────┴───┴────────┴──────┴───────┴──────────┘\n"
          ]
        }
      ]
    },
    {
      "cell_type": "code",
      "source": [
        "# 2 Количество пассажиров каждого класса (Pclass)\n",
        "passenger_counts = data.get_column(\"Pclass\").value_counts()\n",
        "print(\"\\nКоличество пассажиров по классам:\")\n",
        "print(passenger_counts)"
      ],
      "metadata": {
        "colab": {
          "base_uri": "https://localhost:8080/"
        },
        "id": "O0VO0Cf6Fzv-",
        "outputId": "4b8ff661-80c2-4652-ab25-639ed7d3cc5b"
      },
      "execution_count": 5,
      "outputs": [
        {
          "output_type": "stream",
          "name": "stdout",
          "text": [
            "\n",
            "Количество пассажиров по классам:\n",
            "shape: (3, 2)\n",
            "┌────────┬───────┐\n",
            "│ Pclass ┆ count │\n",
            "│ ---    ┆ ---   │\n",
            "│ i64    ┆ u32   │\n",
            "╞════════╪═══════╡\n",
            "│ 2      ┆ 184   │\n",
            "│ 1      ┆ 216   │\n",
            "│ 3      ┆ 491   │\n",
            "└────────┴───────┘\n"
          ]
        }
      ]
    },
    {
      "cell_type": "code",
      "source": [
        "# 3 Количество выживших мужчин и женщин\n",
        "survived_gender = (\n",
        "    data.group_by(\"Sex\")\n",
        "    .agg(pl.col(\"Survived\").sum().alias(\"Survived_Count\"))\n",
        ")\n",
        "print(\"\\nКоличество выживших мужчин и женщин:\")\n",
        "print(survived_gender)"
      ],
      "metadata": {
        "colab": {
          "base_uri": "https://localhost:8080/"
        },
        "id": "x0PzZ5onGJji",
        "outputId": "4e75115d-c8ec-4481-8aeb-893e2bfa3dfe"
      },
      "execution_count": 14,
      "outputs": [
        {
          "output_type": "stream",
          "name": "stdout",
          "text": [
            "\n",
            "Количество выживших мужчин и женщин:\n",
            "shape: (2, 2)\n",
            "┌────────┬────────────────┐\n",
            "│ Sex    ┆ Survived_Count │\n",
            "│ ---    ┆ ---            │\n",
            "│ str    ┆ i64            │\n",
            "╞════════╪════════════════╡\n",
            "│ male   ┆ 109            │\n",
            "│ female ┆ 233            │\n",
            "└────────┴────────────────┘\n"
          ]
        }
      ]
    },
    {
      "cell_type": "code",
      "source": [
        "# 5 Пассажиры старше 44 лет\n",
        "older_than_44 = data.filter(pl.col(\"Age\") > 44)\n",
        "print(\"\\nПассажиры старше 44 лет:\")\n",
        "print(older_than_44)"
      ],
      "metadata": {
        "colab": {
          "base_uri": "https://localhost:8080/"
        },
        "id": "hJQHqIF9IPJj",
        "outputId": "10864f12-1b04-4200-f7c7-7da45dffbfe4"
      },
      "execution_count": 15,
      "outputs": [
        {
          "output_type": "stream",
          "name": "stdout",
          "text": [
            "\n",
            "Пассажиры старше 44 лет:\n",
            "shape: (115, 12)\n",
            "┌─────────────┬──────────┬────────┬──────────────────┬───┬────────────┬─────────┬───────┬──────────┐\n",
            "│ PassengerId ┆ Survived ┆ Pclass ┆ Name             ┆ … ┆ Ticket     ┆ Fare    ┆ Cabin ┆ Embarked │\n",
            "│ ---         ┆ ---      ┆ ---    ┆ ---              ┆   ┆ ---        ┆ ---     ┆ ---   ┆ ---      │\n",
            "│ i64         ┆ i64      ┆ i64    ┆ str              ┆   ┆ str        ┆ f64     ┆ str   ┆ str      │\n",
            "╞═════════════╪══════════╪════════╪══════════════════╪═══╪════════════╪═════════╪═══════╪══════════╡\n",
            "│ 7           ┆ 0        ┆ 1      ┆ McCarthy, Mr.    ┆ … ┆ 17463      ┆ 51.8625 ┆ E46   ┆ S        │\n",
            "│             ┆          ┆        ┆ Timothy J        ┆   ┆            ┆         ┆       ┆          │\n",
            "│ 12          ┆ 1        ┆ 1      ┆ Bonnell, Miss.   ┆ … ┆ 113783     ┆ 26.55   ┆ C103  ┆ S        │\n",
            "│             ┆          ┆        ┆ Elizabeth        ┆   ┆            ┆         ┆       ┆          │\n",
            "│ 16          ┆ 1        ┆ 2      ┆ Hewlett, Mrs.    ┆ … ┆ 248706     ┆ 16.0    ┆ null  ┆ S        │\n",
            "│             ┆          ┆        ┆ (Mary D          ┆   ┆            ┆         ┆       ┆          │\n",
            "│             ┆          ┆        ┆ Kingcome…        ┆   ┆            ┆         ┆       ┆          │\n",
            "│ 34          ┆ 0        ┆ 2      ┆ Wheadon, Mr.     ┆ … ┆ C.A. 24579 ┆ 10.5    ┆ null  ┆ S        │\n",
            "│             ┆          ┆        ┆ Edward H         ┆   ┆            ┆         ┆       ┆          │\n",
            "│ 53          ┆ 1        ┆ 1      ┆ Harper, Mrs.     ┆ … ┆ PC 17572   ┆ 76.7292 ┆ D33   ┆ C        │\n",
            "│             ┆          ┆        ┆ Henry Sleeper    ┆   ┆            ┆         ┆       ┆          │\n",
            "│             ┆          ┆        ┆ (My…             ┆   ┆            ┆         ┆       ┆          │\n",
            "│ …           ┆ …        ┆ …      ┆ …                ┆ … ┆ …          ┆ …       ┆ …     ┆ …        │\n",
            "│ 858         ┆ 1        ┆ 1      ┆ Daly, Mr. Peter  ┆ … ┆ 113055     ┆ 26.55   ┆ E17   ┆ S        │\n",
            "│             ┆          ┆        ┆ Denis            ┆   ┆            ┆         ┆       ┆          │\n",
            "│ 863         ┆ 1        ┆ 1      ┆ Swift, Mrs.      ┆ … ┆ 17466      ┆ 25.9292 ┆ D17   ┆ S        │\n",
            "│             ┆          ┆        ┆ Frederick Joel   ┆   ┆            ┆         ┆       ┆          │\n",
            "│             ┆          ┆        ┆ (Ma…             ┆   ┆            ┆         ┆       ┆          │\n",
            "│ 872         ┆ 1        ┆ 1      ┆ Beckwith, Mrs.   ┆ … ┆ 11751      ┆ 52.5542 ┆ D35   ┆ S        │\n",
            "│             ┆          ┆        ┆ Richard Leonard… ┆   ┆            ┆         ┆       ┆          │\n",
            "│ 874         ┆ 0        ┆ 3      ┆ Vander Cruyssen, ┆ … ┆ 345765     ┆ 9.0     ┆ null  ┆ S        │\n",
            "│             ┆          ┆        ┆ Mr. Victor       ┆   ┆            ┆         ┆       ┆          │\n",
            "│ 880         ┆ 1        ┆ 1      ┆ Potter, Mrs.     ┆ … ┆ 11767      ┆ 83.1583 ┆ C50   ┆ C        │\n",
            "│             ┆          ┆        ┆ Thomas Jr (Lily  ┆   ┆            ┆         ┆       ┆          │\n",
            "│             ┆          ┆        ┆ A…               ┆   ┆            ┆         ┆       ┆          │\n",
            "└─────────────┴──────────┴────────┴──────────────────┴───┴────────────┴─────────┴───────┴──────────┘\n"
          ]
        }
      ]
    },
    {
      "cell_type": "markdown",
      "source": [
        "**PANDAS**"
      ],
      "metadata": {
        "id": "0KmYBsvZIuCQ"
      }
    },
    {
      "cell_type": "code",
      "source": [
        "!pip install bottleneck\n",
        "import pandas as pd\n",
        "import bottleneck as bn"
      ],
      "metadata": {
        "colab": {
          "base_uri": "https://localhost:8080/"
        },
        "id": "jzD1w1_kI0iJ",
        "outputId": "34694e70-bf83-4d99-c7e5-092cf519611a"
      },
      "execution_count": 16,
      "outputs": [
        {
          "output_type": "stream",
          "name": "stdout",
          "text": [
            "Requirement already satisfied: bottleneck in /usr/local/lib/python3.10/dist-packages (1.4.2)\n",
            "Requirement already satisfied: numpy in /usr/local/lib/python3.10/dist-packages (from bottleneck) (1.26.4)\n"
          ]
        }
      ]
    },
    {
      "cell_type": "code",
      "source": [
        "# 1 Считывание данных из файла\n",
        "data_pd = pd.read_csv('train.csv')"
      ],
      "metadata": {
        "id": "L9s9Ed2dJatx"
      },
      "execution_count": 18,
      "outputs": []
    },
    {
      "cell_type": "code",
      "source": [
        "# 2 Средний возраст пассажиров и стандартное отклонение\n",
        "average_age = bn.nanmean(data_pd[\"Age\"])\n",
        "std_age = bn.nanstd(data_pd[\"Age\"])\n",
        "\n",
        "print(f\"Средний возраст пассажиров: {average_age:.2f}\")\n",
        "print(f\"Стандартное отклонение возраста: {std_age:.2f}\")"
      ],
      "metadata": {
        "colab": {
          "base_uri": "https://localhost:8080/"
        },
        "id": "vvH2_DbPI3eb",
        "outputId": "2d40112c-e3fb-484d-b4b1-0e74afd40d80"
      },
      "execution_count": 19,
      "outputs": [
        {
          "output_type": "stream",
          "name": "stdout",
          "text": [
            "Средний возраст пассажиров: 29.70\n",
            "Стандартное отклонение возраста: 14.52\n"
          ]
        }
      ]
    },
    {
      "cell_type": "code",
      "source": [
        "# 3 Создание нового столбца Fare_new\n",
        "data_pd[\"Fare_new\"] = data_pd[\"Fare\"].apply(lambda x: x * 1.3)\n",
        "\n",
        "print(\"\\nТаблица с новым столбцом Fare_new:\")\n",
        "print(data_pd[[\"Fare\", \"Fare_new\"]].head())"
      ],
      "metadata": {
        "colab": {
          "base_uri": "https://localhost:8080/"
        },
        "id": "2o8DFXkjJ4CP",
        "outputId": "74284263-1b39-4326-d4d5-a89cfc5671ca"
      },
      "execution_count": 20,
      "outputs": [
        {
          "output_type": "stream",
          "name": "stdout",
          "text": [
            "\n",
            "Таблица с новым столбцом Fare_new:\n",
            "      Fare  Fare_new\n",
            "0   7.2500   9.42500\n",
            "1  71.2833  92.66829\n",
            "2   7.9250  10.30250\n",
            "3  53.1000  69.03000\n",
            "4   8.0500  10.46500\n"
          ]
        }
      ]
    },
    {
      "cell_type": "markdown",
      "source": [
        "**Оптимизация типов pandas**"
      ],
      "metadata": {
        "id": "Hb7u3AsSKP4C"
      }
    },
    {
      "cell_type": "code",
      "source": [
        "import pandas as pd\n",
        "\n",
        "# Считывание данных\n",
        "data = pd.read_csv('Housing.csv')\n",
        "\n",
        "# Вывод информации о датасете\n",
        "print(data.info())\n",
        "print(data.head())"
      ],
      "metadata": {
        "colab": {
          "base_uri": "https://localhost:8080/"
        },
        "id": "VNYmABdvKSr3",
        "outputId": "68a2bf33-0088-4508-830c-0c2f37d39554"
      },
      "execution_count": 21,
      "outputs": [
        {
          "output_type": "stream",
          "name": "stdout",
          "text": [
            "<class 'pandas.core.frame.DataFrame'>\n",
            "RangeIndex: 545 entries, 0 to 544\n",
            "Data columns (total 13 columns):\n",
            " #   Column            Non-Null Count  Dtype \n",
            "---  ------            --------------  ----- \n",
            " 0   price             545 non-null    int64 \n",
            " 1   area              545 non-null    int64 \n",
            " 2   bedrooms          545 non-null    int64 \n",
            " 3   bathrooms         545 non-null    int64 \n",
            " 4   stories           545 non-null    int64 \n",
            " 5   mainroad          545 non-null    object\n",
            " 6   guestroom         545 non-null    object\n",
            " 7   basement          545 non-null    object\n",
            " 8   hotwaterheating   545 non-null    object\n",
            " 9   airconditioning   545 non-null    object\n",
            " 10  parking           545 non-null    int64 \n",
            " 11  prefarea          545 non-null    object\n",
            " 12  furnishingstatus  545 non-null    object\n",
            "dtypes: int64(6), object(7)\n",
            "memory usage: 55.5+ KB\n",
            "None\n",
            "      price  area  bedrooms  bathrooms  stories mainroad guestroom basement  \\\n",
            "0  13300000  7420         4          2        3      yes        no       no   \n",
            "1  12250000  8960         4          4        4      yes        no       no   \n",
            "2  12250000  9960         3          2        2      yes        no      yes   \n",
            "3  12215000  7500         4          2        2      yes        no      yes   \n",
            "4  11410000  7420         4          1        2      yes       yes      yes   \n",
            "\n",
            "  hotwaterheating airconditioning  parking prefarea furnishingstatus  \n",
            "0              no             yes        2      yes        furnished  \n",
            "1              no             yes        3       no        furnished  \n",
            "2              no              no        2      yes   semi-furnished  \n",
            "3              no             yes        3      yes        furnished  \n",
            "4              no             yes        2       no        furnished  \n"
          ]
        }
      ]
    },
    {
      "cell_type": "code",
      "source": [
        "# Анализ числовых данных\n",
        "print(data.describe())\n",
        "\n",
        "# Анализ категориальных данных\n",
        "print(data.select_dtypes(include='object').nunique())\n",
        "\n"
      ],
      "metadata": {
        "colab": {
          "base_uri": "https://localhost:8080/"
        },
        "id": "Q2O7y-POK_i2",
        "outputId": "cf0cf818-5f99-4ee1-8182-c11e617fc320"
      },
      "execution_count": 23,
      "outputs": [
        {
          "output_type": "stream",
          "name": "stdout",
          "text": [
            "              price          area    bedrooms   bathrooms     stories  \\\n",
            "count  5.450000e+02    545.000000  545.000000  545.000000  545.000000   \n",
            "mean   4.766729e+06   5150.541284    2.965138    1.286239    1.805505   \n",
            "std    1.870440e+06   2170.141023    0.738064    0.502470    0.867492   \n",
            "min    1.750000e+06   1650.000000    1.000000    1.000000    1.000000   \n",
            "25%    3.430000e+06   3600.000000    2.000000    1.000000    1.000000   \n",
            "50%    4.340000e+06   4600.000000    3.000000    1.000000    2.000000   \n",
            "75%    5.740000e+06   6360.000000    3.000000    2.000000    2.000000   \n",
            "max    1.330000e+07  16200.000000    6.000000    4.000000    4.000000   \n",
            "\n",
            "          parking  \n",
            "count  545.000000  \n",
            "mean     0.693578  \n",
            "std      0.861586  \n",
            "min      0.000000  \n",
            "25%      0.000000  \n",
            "50%      0.000000  \n",
            "75%      1.000000  \n",
            "max      3.000000  \n",
            "mainroad            2\n",
            "guestroom           2\n",
            "basement            2\n",
            "hotwaterheating     2\n",
            "airconditioning     2\n",
            "prefarea            2\n",
            "furnishingstatus    3\n",
            "dtype: int64\n"
          ]
        }
      ]
    },
    {
      "cell_type": "code",
      "source": [
        "# Оптимизация типов данных\n",
        "optimized_data = data.copy()\n",
        "\n",
        "# Пример преобразования\n",
        "for col in data.select_dtypes(include='int64').columns:\n",
        "    optimized_data[col] = pd.to_numeric(data[col], downcast='integer')\n",
        "\n",
        "for col in data.select_dtypes(include='float64').columns:\n",
        "    optimized_data[col] = pd.to_numeric(data[col], downcast='float')\n",
        "\n",
        "for col in data.select_dtypes(include='object').columns:\n",
        "    optimized_data[col] = data[col].astype('category')\n",
        "\n",
        "# Сравнение памяти\n",
        "print(\"Память до оптимизации:\")\n",
        "print(data.memory_usage(deep=True).sum(), \"bytes\")\n",
        "\n",
        "print(\"Память после оптимизации:\")\n",
        "print(optimized_data.memory_usage(deep=True).sum(), \"bytes\")\n",
        "\n",
        "# Вывод информации об оптимизированных данных\n",
        "print(optimized_data.info())\n"
      ],
      "metadata": {
        "colab": {
          "base_uri": "https://localhost:8080/"
        },
        "id": "JzXgLxZsLvsN",
        "outputId": "6105435a-b62a-4f32-8623-f21f93e8f5e6"
      },
      "execution_count": 24,
      "outputs": [
        {
          "output_type": "stream",
          "name": "stdout",
          "text": [
            "Память до оптимизации:\n",
            "257760 bytes\n",
            "Память после оптимизации:\n",
            "11068 bytes\n",
            "<class 'pandas.core.frame.DataFrame'>\n",
            "RangeIndex: 545 entries, 0 to 544\n",
            "Data columns (total 13 columns):\n",
            " #   Column            Non-Null Count  Dtype   \n",
            "---  ------            --------------  -----   \n",
            " 0   price             545 non-null    int32   \n",
            " 1   area              545 non-null    int16   \n",
            " 2   bedrooms          545 non-null    int8    \n",
            " 3   bathrooms         545 non-null    int8    \n",
            " 4   stories           545 non-null    int8    \n",
            " 5   mainroad          545 non-null    category\n",
            " 6   guestroom         545 non-null    category\n",
            " 7   basement          545 non-null    category\n",
            " 8   hotwaterheating   545 non-null    category\n",
            " 9   airconditioning   545 non-null    category\n",
            " 10  parking           545 non-null    int8    \n",
            " 11  prefarea          545 non-null    category\n",
            " 12  furnishingstatus  545 non-null    category\n",
            "dtypes: category(7), int16(1), int32(1), int8(4)\n",
            "memory usage: 10.0 KB\n",
            "None\n"
          ]
        }
      ]
    },
    {
      "cell_type": "code",
      "source": [
        "# Расчет изменения памяти\n",
        "original_memory = data.memory_usage(deep=True).sum()\n",
        "optimized_memory = optimized_data.memory_usage(deep=True).sum()\n",
        "memory_difference = original_memory - optimized_memory\n",
        "\n",
        "print(f\"Память до оптимизации: {original_memory / 1024:.2f} KB\")\n",
        "print(f\"Память после оптимизации: {optimized_memory / 1024:.2f} KB\")\n",
        "print(f\"Разница: {memory_difference / 1024:.2f} KB\")\n",
        "\n",
        "# Вывод столбцов, которые были изменены\n",
        "print(\"\\nИзменённые столбцы и их новые типы:\")\n",
        "for col in data.columns:\n",
        "    if data[col].dtype != optimized_data[col].dtype:\n",
        "        print(f\"{col}: {data[col].dtype} → {optimized_data[col].dtype}\")"
      ],
      "metadata": {
        "colab": {
          "base_uri": "https://localhost:8080/"
        },
        "id": "yEbOf5ZYMS15",
        "outputId": "7ac7e72e-d215-4f06-f09b-8789e6b946d4"
      },
      "execution_count": 25,
      "outputs": [
        {
          "output_type": "stream",
          "name": "stdout",
          "text": [
            "Память до оптимизации: 251.72 KB\n",
            "Память после оптимизации: 10.81 KB\n",
            "Сэкономлено: 240.91 KB\n",
            "\n",
            "Изменённые столбцы и их новые типы:\n",
            "price: int64 → int32\n",
            "area: int64 → int16\n",
            "bedrooms: int64 → int8\n",
            "bathrooms: int64 → int8\n",
            "stories: int64 → int8\n",
            "mainroad: object → category\n",
            "guestroom: object → category\n",
            "basement: object → category\n",
            "hotwaterheating: object → category\n",
            "airconditioning: object → category\n",
            "parking: int64 → int8\n",
            "prefarea: object → category\n",
            "furnishingstatus: object → category\n"
          ]
        }
      ]
    }
  ]
}