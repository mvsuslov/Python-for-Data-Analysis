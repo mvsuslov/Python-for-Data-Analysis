{
  "cells": [
    {
      "cell_type": "code",
      "source": [
        "!pip install requests beautifulsoup4 lxml pandas tqdm"
      ],
      "metadata": {
        "id": "-c67ET7gML7W"
      },
      "execution_count": null,
      "outputs": []
    },
    {
      "cell_type": "code",
      "execution_count": null,
      "metadata": {
        "colab": {
          "base_uri": "https://localhost:8080/"
        },
        "id": "LC9gVb_wFch8",
        "outputId": "12baea2f-7203-4248-81b1-a8d5be24eebb"
      },
      "outputs": [
        {
          "output_type": "stream",
          "name": "stderr",
          "text": [
            "Парсинг страницы 1: 100%|██████████| 30/30 [00:27<00:00,  1.09it/s]"
          ]
        },
        {
          "output_type": "stream",
          "name": "stdout",
          "text": [
            "\n",
            "Данные успешно собраны и сохранены в файл lifehacker_technology_articles.csv\n"
          ]
        },
        {
          "output_type": "stream",
          "name": "stderr",
          "text": [
            "\n"
          ]
        }
      ],
      "source": [
        "import requests\n",
        "from bs4 import BeautifulSoup\n",
        "import pandas as pd\n",
        "from tqdm import tqdm\n",
        "\n",
        "# Базовый URL для рубрики \"Технологии\"\n",
        "base_url = \"https://lifehacker.ru/topics/technology/?page=\"\n",
        "\n",
        "# Список для хранения данных\n",
        "articles = []\n",
        "\n",
        "headers = {'User-Agent': 'Mozilla/5.0 (Windows NT 10.0; Win64; x64) AppleWebKit/537.36 (KHTML, like Gecko) Chrome/91.0.4472.124 Safari/537.36'}\n",
        "\n",
        "# Получение данных с 10 страниц\n",
        "for page_num in range(1, 10):\n",
        "    url = f\"{base_url}{page_num}\"\n",
        "    response = requests.get(url, headers=headers)\n",
        "\n",
        "    if response.status_code != 200:\n",
        "        print(f\"Ошибка при запросе страницы {page_num}. Код ответа: {response.status_code}\")\n",
        "        continue\n",
        "\n",
        "    soup = BeautifulSoup(response.text, 'lxml')\n",
        "\n",
        "    # Ищем ссылки на статьи\n",
        "    article_links = [a['href'] for a in soup.find_all('a', class_='lh-small-article-card__link')]\n",
        "\n",
        "    # преобразуем ссылки и получаем данные статей\n",
        "    for link in tqdm(article_links, desc=f\"Парсинг страницы {page_num}\"):\n",
        "        # Обработка относительных ссылок\n",
        "        full_link = f\"https://lifehacker.ru{link}\" if link.startswith('/') else link\n",
        "\n",
        "        # Переход по ссылке и парсинг содержимого статьи\n",
        "        article_response = requests.get(full_link, headers=headers)\n",
        "        if article_response.status_code != 200:\n",
        "            print(f\"Ошибка при запросе статьи {full_link}. Код ответа: {article_response.status_code}\")\n",
        "            continue\n",
        "\n",
        "        article_soup = BeautifulSoup(article_response.text, 'lxml')\n",
        "\n",
        "        # ИЗВЛЕЧЕНИЕ СОДЕРЖИМОГО\n",
        "        # Заголовок\n",
        "        title_tag = article_soup.find('h1', class_='article-card__title')\n",
        "        title = title_tag.text.strip() if title_tag else \"Заголовок не найден\"\n",
        "\n",
        "        # Основной текст\n",
        "        content_div = article_soup.find(class_='single-article__post-content single-article__content-container')\n",
        "        text = content_div.text.strip() if content_div else \"Текст статьи не найден\"\n",
        "\n",
        "        # Сохранение данных\n",
        "        articles.append({\"title\": title, \"text\": text, \"link\": full_link})\n",
        "\n",
        "# Создание DataFrame\n",
        "df = pd.DataFrame(articles)\n",
        "df.to_csv('lifehacker_technology_articles.csv', index=False)\n",
        "print(\"\\nДанные успешно собраны и сохранены в файл lifehacker_technology_articles.csv\")\n"
      ]
    }
  ],
  "metadata": {
    "colab": {
      "provenance": []
    },
    "kernelspec": {
      "display_name": "Python 3",
      "name": "python3"
    },
    "language_info": {
      "name": "python"
    }
  },
  "nbformat": 4,
  "nbformat_minor": 0
}