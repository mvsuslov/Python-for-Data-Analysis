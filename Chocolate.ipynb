{
  "nbformat": 4,
  "nbformat_minor": 0,
  "metadata": {
    "colab": {
      "provenance": []
    },
    "kernelspec": {
      "name": "python3",
      "display_name": "Python 3"
    },
    "language_info": {
      "name": "python"
    }
  },
  "cells": [
    {
      "cell_type": "code",
      "execution_count": null,
      "metadata": {
        "id": "Je1a0YjOjfkw"
      },
      "outputs": [],
      "source": [
        "# Создаем класс Chocolate\n",
        "class Chocolate:\n",
        "    def __init__(self, price, topping=None):\n",
        "        # Если цена невалидна, то ошибка\n",
        "        if price <= 0:\n",
        "            raise ValueError('Ошибка! Цена батончика должна быть больше нуля')\n",
        "\n",
        "        # Инициализация атрибутов price и topping\n",
        "        self.price = price\n",
        "        self.topping = topping\n",
        "\n",
        "    # Метод для отображения информации\n",
        "    def show_my_chocolate(self):\n",
        "        if self.topping:\n",
        "            print(f'Шоколадный батончик, добавка: {self.topping}')\n",
        "        else:\n",
        "            print('Обычный шоколадный батончик')\n",
        "\n",
        "    # Переопределение метода __str__ для корректного вывода\n",
        "    def __str__(self):\n",
        "        return f'Шоколадный батончик, {self.price} руб'\n"
      ]
    },
    {
      "cell_type": "code",
      "source": [
        "try:\n",
        "    # Пример 1: Обычный шоколадный батончик\n",
        "    chocolate1 = Chocolate(50)\n",
        "    print(chocolate1)\n",
        "    chocolate1.show_my_chocolate()\n",
        "    print('---')\n",
        "    # Пример 2: Шоколадный батончик с добавкой\n",
        "    chocolate2 = Chocolate(70, 'Нуга')\n",
        "    print(chocolate2)\n",
        "    chocolate2.show_my_chocolate()\n",
        "    print('---')\n",
        "    # Пример 3: Проверка исключения\n",
        "    chocolate3 = Chocolate(-10)  # вызов ValueError\n",
        "except ValueError as e:\n",
        "    print(e)"
      ],
      "metadata": {
        "colab": {
          "base_uri": "https://localhost:8080/"
        },
        "id": "waR4xpF7l4-t",
        "outputId": "44096bd1-431b-4d0a-907c-b214eac3ba45"
      },
      "execution_count": 5,
      "outputs": [
        {
          "output_type": "stream",
          "name": "stdout",
          "text": [
            "Шоколадный батончик, 50 руб\n",
            "Обычный шоколадный батончик\n",
            "---\n",
            "Шоколадный батончик, 70 руб\n",
            "Шоколадный батончик, добавка: Нуга\n",
            "---\n",
            "Ошибка! Цена батончика должна быть больше нуля\n"
          ]
        }
      ]
    },
    {
      "cell_type": "code",
      "source": [],
      "metadata": {
        "id": "0rAGrnmnl57j"
      },
      "execution_count": null,
      "outputs": []
    }
  ]
}