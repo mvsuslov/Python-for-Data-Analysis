{
  "nbformat": 4,
  "nbformat_minor": 0,
  "metadata": {
    "colab": {
      "provenance": []
    },
    "kernelspec": {
      "name": "python3",
      "display_name": "Python 3"
    },
    "language_info": {
      "name": "python"
    }
  },
  "cells": [
    {
      "cell_type": "code",
      "execution_count": 2,
      "metadata": {
        "id": "FZMhu9tz2dhQ"
      },
      "outputs": [],
      "source": [
        "import pandas as pd\n",
        "import numpy as np\n",
        "\n",
        "# считываем файл train.csv\n",
        "data = pd.read_csv('/content/train.csv')"
      ]
    },
    {
      "cell_type": "code",
      "source": [
        "# Основная информация о данных\n",
        "print(data.info())\n",
        "\n",
        "# Число пропусков\n",
        "print(data.isnull().sum())\n",
        "\n",
        "# Основные статистики\n",
        "print(data.describe())"
      ],
      "metadata": {
        "colab": {
          "base_uri": "https://localhost:8080/"
        },
        "id": "EhSko4lj3jTf",
        "outputId": "6961b7b3-6e54-41e9-99be-fc31780d949d"
      },
      "execution_count": 3,
      "outputs": [
        {
          "output_type": "stream",
          "name": "stdout",
          "text": [
            "<class 'pandas.core.frame.DataFrame'>\n",
            "RangeIndex: 891 entries, 0 to 890\n",
            "Data columns (total 12 columns):\n",
            " #   Column       Non-Null Count  Dtype  \n",
            "---  ------       --------------  -----  \n",
            " 0   PassengerId  891 non-null    int64  \n",
            " 1   Survived     891 non-null    int64  \n",
            " 2   Pclass       891 non-null    int64  \n",
            " 3   Name         891 non-null    object \n",
            " 4   Sex          891 non-null    object \n",
            " 5   Age          714 non-null    float64\n",
            " 6   SibSp        891 non-null    int64  \n",
            " 7   Parch        891 non-null    int64  \n",
            " 8   Ticket       891 non-null    object \n",
            " 9   Fare         891 non-null    float64\n",
            " 10  Cabin        204 non-null    object \n",
            " 11  Embarked     889 non-null    object \n",
            "dtypes: float64(2), int64(5), object(5)\n",
            "memory usage: 83.7+ KB\n",
            "None\n",
            "PassengerId      0\n",
            "Survived         0\n",
            "Pclass           0\n",
            "Name             0\n",
            "Sex              0\n",
            "Age            177\n",
            "SibSp            0\n",
            "Parch            0\n",
            "Ticket           0\n",
            "Fare             0\n",
            "Cabin          687\n",
            "Embarked         2\n",
            "dtype: int64\n",
            "       PassengerId    Survived      Pclass         Age       SibSp  \\\n",
            "count   891.000000  891.000000  891.000000  714.000000  891.000000   \n",
            "mean    446.000000    0.383838    2.308642   29.699118    0.523008   \n",
            "std     257.353842    0.486592    0.836071   14.526497    1.102743   \n",
            "min       1.000000    0.000000    1.000000    0.420000    0.000000   \n",
            "25%     223.500000    0.000000    2.000000   20.125000    0.000000   \n",
            "50%     446.000000    0.000000    3.000000   28.000000    0.000000   \n",
            "75%     668.500000    1.000000    3.000000   38.000000    1.000000   \n",
            "max     891.000000    1.000000    3.000000   80.000000    8.000000   \n",
            "\n",
            "            Parch        Fare  \n",
            "count  891.000000  891.000000  \n",
            "mean     0.381594   32.204208  \n",
            "std      0.806057   49.693429  \n",
            "min      0.000000    0.000000  \n",
            "25%      0.000000    7.910400  \n",
            "50%      0.000000   14.454200  \n",
            "75%      0.000000   31.000000  \n",
            "max      6.000000  512.329200  \n"
          ]
        }
      ]
    },
    {
      "cell_type": "code",
      "source": [
        "# Процент выживаемости по классам\n",
        "survival_rate_by_class = data.groupby('Pclass')['Survived'].mean() * 100\n",
        "print(survival_rate_by_class)"
      ],
      "metadata": {
        "colab": {
          "base_uri": "https://localhost:8080/"
        },
        "id": "vYFpCpIt4VYF",
        "outputId": "2d3e35ed-7e27-47c4-87e9-bce631487085"
      },
      "execution_count": 4,
      "outputs": [
        {
          "output_type": "stream",
          "name": "stdout",
          "text": [
            "Pclass\n",
            "1    62.962963\n",
            "2    47.282609\n",
            "3    24.236253\n",
            "Name: Survived, dtype: float64\n"
          ]
        }
      ]
    },
    {
      "cell_type": "code",
      "source": [
        "# Извлечение имени\n",
        "data['FirstName'] = data['Name'].str.extract(r',\\s(.*?)\\.')\n",
        "data['FirstName'] = data['Name'].str.extract(r'\\((.*?)\\)|,\\s(?:\\w+)\\s+(\\w+)').bfill(axis=1)[0]\n",
        "\n",
        "# Самые популярные мужское и женское имена\n",
        "popular_male_name = data[data['Sex'] == 'male']['FirstName'].mode()[0]\n",
        "popular_female_name = data[data['Sex'] == 'female']['FirstName'].mode()[0]\n",
        "\n",
        "print(f\"Самое популярное мужское имя: {popular_male_name}\")\n",
        "print(f\"Самое популярное женское имя: {popular_female_name}\")"
      ],
      "metadata": {
        "colab": {
          "base_uri": "https://localhost:8080/"
        },
        "id": "91kPtg6x4czN",
        "outputId": "b9c66580-97e0-4366-f02a-4e4f178e5cd9"
      },
      "execution_count": 7,
      "outputs": [
        {
          "output_type": "stream",
          "name": "stdout",
          "text": [
            "Самое популярное мужское имя: \"George Arthur Brayton\"\n",
            "Самое популярное женское имя: \"Mary\"\n"
          ]
        }
      ]
    },
    {
      "cell_type": "code",
      "source": [
        "# Самые популярные имена по классам\n",
        "popular_names_by_class = data.groupby(['Pclass', 'Sex'])['FirstName'].agg(lambda x: x.mode()[0])\n",
        "print(popular_names_by_class)"
      ],
      "metadata": {
        "colab": {
          "base_uri": "https://localhost:8080/"
        },
        "id": "Qb_3Sz1v6Eju",
        "outputId": "fb89ee6b-b987-4283-ddb9-48559e2f9857"
      },
      "execution_count": 8,
      "outputs": [
        {
          "output_type": "stream",
          "name": "stdout",
          "text": [
            "Pclass  Sex   \n",
            "1       female          \"Mrs de Villiers\"\n",
            "        male      \"George Arthur Brayton\"\n",
            "2       female              \"Mrs Harbeck\"\n",
            "        male            \"Louis M Hoffman\"\n",
            "3       female                     \"Mary\"\n",
            "        male                      \"Henry\"\n",
            "Name: FirstName, dtype: object\n"
          ]
        }
      ]
    },
    {
      "cell_type": "code",
      "source": [
        "# Пассажиры старше 44 лет\n",
        "older_than_44 = data[data['Age'] > 44]\n",
        "print(older_than_44)"
      ],
      "metadata": {
        "colab": {
          "base_uri": "https://localhost:8080/"
        },
        "id": "-g15Pm8q6Krk",
        "outputId": "13d5275a-394e-4879-aae1-7dbef50c0ab7"
      },
      "execution_count": 9,
      "outputs": [
        {
          "output_type": "stream",
          "name": "stdout",
          "text": [
            "     PassengerId  Survived  Pclass  \\\n",
            "6              7         0       1   \n",
            "11            12         1       1   \n",
            "15            16         1       2   \n",
            "33            34         0       2   \n",
            "52            53         1       1   \n",
            "..           ...       ...     ...   \n",
            "857          858         1       1   \n",
            "862          863         1       1   \n",
            "871          872         1       1   \n",
            "873          874         0       3   \n",
            "879          880         1       1   \n",
            "\n",
            "                                                  Name     Sex   Age  SibSp  \\\n",
            "6                              McCarthy, Mr. Timothy J    male  54.0      0   \n",
            "11                            Bonnell, Miss. Elizabeth  female  58.0      0   \n",
            "15                    Hewlett, Mrs. (Mary D Kingcome)   female  55.0      0   \n",
            "33                               Wheadon, Mr. Edward H    male  66.0      0   \n",
            "52            Harper, Mrs. Henry Sleeper (Myna Haxtun)  female  49.0      1   \n",
            "..                                                 ...     ...   ...    ...   \n",
            "857                             Daly, Mr. Peter Denis     male  51.0      0   \n",
            "862  Swift, Mrs. Frederick Joel (Margaret Welles Ba...  female  48.0      0   \n",
            "871   Beckwith, Mrs. Richard Leonard (Sallie Monypeny)  female  47.0      1   \n",
            "873                        Vander Cruyssen, Mr. Victor    male  47.0      0   \n",
            "879      Potter, Mrs. Thomas Jr (Lily Alexenia Wilson)  female  56.0      0   \n",
            "\n",
            "     Parch      Ticket     Fare Cabin Embarked               FirstName  \n",
            "6        0       17463  51.8625   E46        S                     NaN  \n",
            "11       0      113783  26.5500  C103        S                     NaN  \n",
            "15       0      248706  16.0000   NaN        S         Mary D Kingcome  \n",
            "33       0  C.A. 24579  10.5000   NaN        S                     NaN  \n",
            "52       0    PC 17572  76.7292   D33        C             Myna Haxtun  \n",
            "..     ...         ...      ...   ...      ...                     ...  \n",
            "857      0      113055  26.5500   E17        S                     NaN  \n",
            "862      0       17466  25.9292   D17        S  Margaret Welles Barron  \n",
            "871      1       11751  52.5542   D35        S         Sallie Monypeny  \n",
            "873      0      345765   9.0000   NaN        S                     NaN  \n",
            "879      1       11767  83.1583   C50        C    Lily Alexenia Wilson  \n",
            "\n",
            "[115 rows x 13 columns]\n"
          ]
        }
      ]
    },
    {
      "cell_type": "code",
      "source": [
        "# Мужчины младше 44 лет\n",
        "males_younger_than_44 = data[(data['Age'] < 44) & (data['Sex'] == 'male')]\n",
        "print(males_younger_than_44)"
      ],
      "metadata": {
        "colab": {
          "base_uri": "https://localhost:8080/"
        },
        "id": "039VexYE6Uze",
        "outputId": "e4cdbdca-9fc0-4816-deb8-467587385344"
      },
      "execution_count": 10,
      "outputs": [
        {
          "output_type": "stream",
          "name": "stdout",
          "text": [
            "     PassengerId  Survived  Pclass                            Name   Sex  \\\n",
            "0              1         0       3         Braund, Mr. Owen Harris  male   \n",
            "4              5         0       3        Allen, Mr. William Henry  male   \n",
            "7              8         0       3  Palsson, Master. Gosta Leonard  male   \n",
            "12            13         0       3  Saundercock, Mr. William Henry  male   \n",
            "13            14         0       3     Andersson, Mr. Anders Johan  male   \n",
            "..           ...       ...     ...                             ...   ...   \n",
            "883          884         0       2   Banfield, Mr. Frederick James  male   \n",
            "884          885         0       3          Sutehall, Mr. Henry Jr  male   \n",
            "886          887         0       2           Montvila, Rev. Juozas  male   \n",
            "889          890         1       1           Behr, Mr. Karl Howell  male   \n",
            "890          891         0       3             Dooley, Mr. Patrick  male   \n",
            "\n",
            "      Age  SibSp  Parch            Ticket    Fare Cabin Embarked FirstName  \n",
            "0    22.0      1      0         A/5 21171   7.250   NaN        S       NaN  \n",
            "4    35.0      0      0            373450   8.050   NaN        S       NaN  \n",
            "7     2.0      3      1            349909  21.075   NaN        S       NaN  \n",
            "12   20.0      0      0         A/5. 2151   8.050   NaN        S       NaN  \n",
            "13   39.0      1      5            347082  31.275   NaN        S       NaN  \n",
            "..    ...    ...    ...               ...     ...   ...      ...       ...  \n",
            "883  28.0      0      0  C.A./SOTON 34068  10.500   NaN        S       NaN  \n",
            "884  25.0      0      0   SOTON/OQ 392076   7.050   NaN        S       NaN  \n",
            "886  27.0      0      0            211536  13.000   NaN        S       NaN  \n",
            "889  26.0      0      0            111369  30.000  C148        C       NaN  \n",
            "890  32.0      0      0            370376   7.750   NaN        Q       NaN  \n",
            "\n",
            "[368 rows x 13 columns]\n"
          ]
        }
      ]
    },
    {
      "cell_type": "code",
      "source": [
        "# Число пассажиров в каютах\n",
        "data['CabinGroup'] = data['Cabin'].str.split(' ').str.len().fillna(0).astype(int)\n",
        "cabin_counts = data['CabinGroup'].value_counts()\n",
        "print(cabin_counts)"
      ],
      "metadata": {
        "id": "UgwPrgFC6Y6O",
        "outputId": "bee281dc-3466-4b9a-821f-d5d0f2f7a6ea",
        "colab": {
          "base_uri": "https://localhost:8080/"
        }
      },
      "execution_count": 11,
      "outputs": [
        {
          "output_type": "stream",
          "name": "stdout",
          "text": [
            "CabinGroup\n",
            "0    687\n",
            "1    180\n",
            "2     16\n",
            "3      6\n",
            "4      2\n",
            "Name: count, dtype: int64\n"
          ]
        }
      ]
    }
  ]
}